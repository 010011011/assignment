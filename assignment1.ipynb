{
 "cells": [
  {
   "cell_type": "markdown",
   "id": "69a6deaa",
   "metadata": {},
   "source": [
    "#Q1 "
   ]
  },
  {
   "cell_type": "code",
   "execution_count": 52,
   "id": "91b53578",
   "metadata": {},
   "outputs": [],
   "source": [
    "t = (1,2,3,4,5)\n",
    "t1 = (6,7,8,9)"
   ]
  },
  {
   "cell_type": "code",
   "execution_count": 53,
   "id": "9602805f",
   "metadata": {},
   "outputs": [],
   "source": [
    "t = t + t1 "
   ]
  },
  {
   "cell_type": "code",
   "execution_count": 54,
   "id": "43c7353c",
   "metadata": {},
   "outputs": [
    {
     "data": {
      "text/plain": [
       "(1, 2, 3, 4, 5, 6, 7, 8, 9)"
      ]
     },
     "execution_count": 54,
     "metadata": {},
     "output_type": "execute_result"
    }
   ],
   "source": [
    "t"
   ]
  },
  {
   "cell_type": "code",
   "execution_count": 55,
   "id": "7d34a0e5",
   "metadata": {},
   "outputs": [],
   "source": [
    "t = list(t)"
   ]
  },
  {
   "cell_type": "code",
   "execution_count": 56,
   "id": "e00d3826",
   "metadata": {},
   "outputs": [
    {
     "data": {
      "text/plain": [
       "[1, 2, 3, 4, 5, 6, 7, 8, 9]"
      ]
     },
     "execution_count": 56,
     "metadata": {},
     "output_type": "execute_result"
    }
   ],
   "source": [
    "t"
   ]
  },
  {
   "cell_type": "code",
   "execution_count": 57,
   "id": "3e2d7fe3",
   "metadata": {},
   "outputs": [
    {
     "name": "stdout",
     "output_type": "stream",
     "text": [
      "add 10\n"
     ]
    },
    {
     "data": {
      "text/plain": [
       "[1, 2, 3, 4, 5, 6, 7, 8, 9, '10']"
      ]
     },
     "execution_count": 57,
     "metadata": {},
     "output_type": "execute_result"
    }
   ],
   "source": [
    "t.append(input(\"add \"))\n",
    "t"
   ]
  },
  {
   "cell_type": "code",
   "execution_count": 58,
   "id": "14629292",
   "metadata": {},
   "outputs": [
    {
     "data": {
      "text/plain": [
       "(1, 2, 3, 4, 5, 6, 7, 8, 9, '10')"
      ]
     },
     "execution_count": 58,
     "metadata": {},
     "output_type": "execute_result"
    }
   ],
   "source": [
    "t = tuple(t)\n",
    "t"
   ]
  },
  {
   "cell_type": "markdown",
   "id": "54ecf6b9",
   "metadata": {},
   "source": [
    "#Q2"
   ]
  },
  {
   "cell_type": "code",
   "execution_count": 65,
   "id": "62c7c3ab",
   "metadata": {},
   "outputs": [
    {
     "data": {
      "text/plain": [
       "10"
      ]
     },
     "execution_count": 65,
     "metadata": {},
     "output_type": "execute_result"
    }
   ],
   "source": [
    "l = [1,2,3,4]\n",
    "s = 0\n",
    "for i in l :\n",
    "    s = s + i\n",
    "s"
   ]
  },
  {
   "cell_type": "code",
   "execution_count": 120,
   "id": "4104f7ca",
   "metadata": {},
   "outputs": [],
   "source": [
    "def sum_lst(*l):\n",
    "    s = 0\n",
    "    for i in l :\n",
    "        s = s + i\n",
    "    return s\n",
    "    "
   ]
  },
  {
   "cell_type": "code",
   "execution_count": 121,
   "id": "9e53af8e",
   "metadata": {},
   "outputs": [
    {
     "data": {
      "text/plain": [
       "15"
      ]
     },
     "execution_count": 121,
     "metadata": {},
     "output_type": "execute_result"
    }
   ],
   "source": [
    "sum_lst(1,2,3,4,5)"
   ]
  },
  {
   "cell_type": "markdown",
   "id": "d80bd809",
   "metadata": {},
   "source": [
    "#Q3"
   ]
  },
  {
   "cell_type": "code",
   "execution_count": 70,
   "id": "f65a2357",
   "metadata": {},
   "outputs": [
    {
     "data": {
      "text/plain": [
       "24"
      ]
     },
     "execution_count": 70,
     "metadata": {},
     "output_type": "execute_result"
    }
   ],
   "source": [
    "l = [1,2,3,4]\n",
    "m = 1\n",
    "for i in l :\n",
    "    m = m * i\n",
    "m"
   ]
  },
  {
   "cell_type": "code",
   "execution_count": 75,
   "id": "83f5f998",
   "metadata": {},
   "outputs": [],
   "source": [
    "def X_lst(*l):\n",
    "    m = 1\n",
    "    for i in l :\n",
    "        m = m * i\n",
    "    return m\n",
    "    "
   ]
  },
  {
   "cell_type": "code",
   "execution_count": 122,
   "id": "c551bf0f",
   "metadata": {},
   "outputs": [
    {
     "data": {
      "text/plain": [
       "24960"
      ]
     },
     "execution_count": 122,
     "metadata": {},
     "output_type": "execute_result"
    }
   ],
   "source": [
    "X_lst(4,6,2,8,65)"
   ]
  },
  {
   "cell_type": "markdown",
   "id": "e074118d",
   "metadata": {},
   "source": [
    "#Q4"
   ]
  },
  {
   "cell_type": "code",
   "execution_count": 77,
   "id": "b51712f7",
   "metadata": {},
   "outputs": [
    {
     "data": {
      "text/plain": [
       "1"
      ]
     },
     "execution_count": 77,
     "metadata": {},
     "output_type": "execute_result"
    }
   ],
   "source": [
    "lst = (1,2,3,4,5,6)\n",
    "min(lst)"
   ]
  },
  {
   "cell_type": "code",
   "execution_count": 105,
   "id": "bb8d7e04",
   "metadata": {},
   "outputs": [
    {
     "name": "stdout",
     "output_type": "stream",
     "text": [
      "num 4\n",
      "num 3\n",
      "num 564\n",
      "num 32\n",
      "num 1\n",
      "the smallest num  is  1.0\n"
     ]
    }
   ],
   "source": [
    "num_input = int(input(\"num \"))\n",
    "lst = []\n",
    "for i in range(num_input):\n",
    "    lst.append(float(input(\"num \")))\n",
    "print(\"the smallest num  is \" , min(lst))\n",
    "    \n",
    "    "
   ]
  },
  {
   "cell_type": "markdown",
   "id": "2d975c2f",
   "metadata": {},
   "source": [
    "#Q5"
   ]
  },
  {
   "cell_type": "code",
   "execution_count": 78,
   "id": "33546d48",
   "metadata": {},
   "outputs": [
    {
     "data": {
      "text/plain": [
       "6"
      ]
     },
     "execution_count": 78,
     "metadata": {},
     "output_type": "execute_result"
    }
   ],
   "source": [
    "max(lst)"
   ]
  },
  {
   "cell_type": "code",
   "execution_count": 106,
   "id": "89785639",
   "metadata": {},
   "outputs": [
    {
     "name": "stdout",
     "output_type": "stream",
     "text": [
      "num 5\n",
      "num 32\n",
      "num 2432\n",
      "num 53\n",
      "num 2334\n",
      "num 6\n",
      "the largest num  is  2432.0\n"
     ]
    }
   ],
   "source": [
    "num_input = int(input(\"num \"))\n",
    "lst = []\n",
    "for i in range(num_input):\n",
    "    lst.append(float(input(\"num \")))\n",
    "print(\"the largest num  is \" , max(lst))\n",
    "    \n",
    "    "
   ]
  },
  {
   "cell_type": "markdown",
   "id": "62d498ad",
   "metadata": {},
   "source": [
    "#Q6"
   ]
  },
  {
   "cell_type": "code",
   "execution_count": 129,
   "id": "655d86ce",
   "metadata": {},
   "outputs": [
    {
     "data": {
      "text/plain": [
       "3"
      ]
     },
     "execution_count": 129,
     "metadata": {},
     "output_type": "execute_result"
    }
   ],
   "source": [
    "lst = [1,2,3,4,54,3,5,43,3,4,4]\n",
    "lst.count(4)"
   ]
  },
  {
   "cell_type": "markdown",
   "id": "5564f019",
   "metadata": {},
   "source": [
    "#Q7"
   ]
  },
  {
   "cell_type": "code",
   "execution_count": 117,
   "id": "21b39019",
   "metadata": {},
   "outputs": [],
   "source": [
    "lst = [1,2,4,6,7,8]"
   ]
  },
  {
   "cell_type": "code",
   "execution_count": 118,
   "id": "0fb09c5b",
   "metadata": {},
   "outputs": [
    {
     "data": {
      "text/plain": [
       "[1, 2, 4, 6, 7, 8]"
      ]
     },
     "execution_count": 118,
     "metadata": {},
     "output_type": "execute_result"
    }
   ],
   "source": [
    "lst1 = lst.copy()\n",
    "lst1\n"
   ]
  },
  {
   "cell_type": "markdown",
   "id": "faf2104b",
   "metadata": {},
   "source": [
    "#Q8"
   ]
  },
  {
   "cell_type": "code",
   "execution_count": 124,
   "id": "e46578a6",
   "metadata": {},
   "outputs": [
    {
     "data": {
      "text/plain": [
       "{2, 3, 4, 5, 6, 8, 9}"
      ]
     },
     "execution_count": 124,
     "metadata": {},
     "output_type": "execute_result"
    }
   ],
   "source": [
    "s = {1,2,3,4,5,6,7,8,9}\n",
    "s.pop()\n",
    "s.remove(7)\n",
    "s"
   ]
  },
  {
   "cell_type": "markdown",
   "id": "6f58110c",
   "metadata": {},
   "source": [
    "#Q9"
   ]
  },
  {
   "cell_type": "code",
   "execution_count": 130,
   "id": "9c7fca53",
   "metadata": {},
   "outputs": [
    {
     "data": {
      "text/plain": [
       "{4, 5, 6}"
      ]
     },
     "execution_count": 130,
     "metadata": {},
     "output_type": "execute_result"
    }
   ],
   "source": [
    "s1 = {1,2,3,4,5,6}\n",
    "s2 = {4,5,6,7,8,9}\n",
    "s1.intersection(s2)"
   ]
  },
  {
   "cell_type": "markdown",
   "id": "c7c3ed22",
   "metadata": {},
   "source": [
    "#Q10"
   ]
  },
  {
   "cell_type": "code",
   "execution_count": 131,
   "id": "def58179",
   "metadata": {},
   "outputs": [
    {
     "data": {
      "text/plain": [
       "<function set.clear>"
      ]
     },
     "execution_count": 131,
     "metadata": {},
     "output_type": "execute_result"
    }
   ],
   "source": [
    "s2.clear"
   ]
  },
  {
   "cell_type": "markdown",
   "id": "65cbb574",
   "metadata": {},
   "source": [
    "#Q11"
   ]
  },
  {
   "cell_type": "code",
   "execution_count": 141,
   "id": "db270c15",
   "metadata": {},
   "outputs": [
    {
     "data": {
      "text/plain": [
       "(1, 6)"
      ]
     },
     "execution_count": 141,
     "metadata": {},
     "output_type": "execute_result"
    }
   ],
   "source": [
    "min(s1) , max(s1)"
   ]
  },
  {
   "cell_type": "markdown",
   "id": "a19b810d",
   "metadata": {},
   "source": [
    "#Q12"
   ]
  },
  {
   "cell_type": "code",
   "execution_count": 135,
   "id": "e603d600",
   "metadata": {},
   "outputs": [
    {
     "data": {
      "text/plain": [
       "4"
      ]
     },
     "execution_count": 135,
     "metadata": {},
     "output_type": "execute_result"
    }
   ],
   "source": [
    "t = (1,4,2,6,5,8,3,0,4,7,65,32)\n",
    "t.index(5)"
   ]
  },
  {
   "cell_type": "markdown",
   "id": "cda6441c",
   "metadata": {},
   "source": [
    "#Q13"
   ]
  },
  {
   "cell_type": "code",
   "execution_count": 187,
   "id": "68b91e5e",
   "metadata": {},
   "outputs": [],
   "source": [
    "t = (1,2,3,4)"
   ]
  },
  {
   "cell_type": "code",
   "execution_count": 189,
   "id": "cb487a74",
   "metadata": {},
   "outputs": [],
   "source": [
    "d = {\"k1\": t}"
   ]
  },
  {
   "cell_type": "code",
   "execution_count": 190,
   "id": "47a25eca",
   "metadata": {},
   "outputs": [
    {
     "data": {
      "text/plain": [
       "{'k1': (1, 2, 3, 4)}"
      ]
     },
     "execution_count": 190,
     "metadata": {},
     "output_type": "execute_result"
    }
   ],
   "source": [
    "d"
   ]
  },
  {
   "cell_type": "markdown",
   "id": "6f587efd",
   "metadata": {},
   "source": [
    "#Q14"
   ]
  },
  {
   "cell_type": "code",
   "execution_count": 262,
   "id": "34dfae2c",
   "metadata": {},
   "outputs": [],
   "source": [
    "x = [(1,2),(3,4,5),(6,7,8,9)]"
   ]
  },
  {
   "cell_type": "code",
   "execution_count": 356,
   "id": "f23bf216",
   "metadata": {},
   "outputs": [
    {
     "name": "stdout",
     "output_type": "stream",
     "text": [
      "(1, 2)\n",
      "(3, 4, 5)\n",
      "(6, 7, 8, 9)\n"
     ]
    }
   ],
   "source": [
    "for i in x :\n",
    "    print(i)"
   ]
  },
  {
   "cell_type": "code",
   "execution_count": 355,
   "id": "7aa67788",
   "metadata": {},
   "outputs": [
    {
     "name": "stdout",
     "output_type": "stream",
     "text": [
      "(1, 2) (3, 4, 5) (6, 7, 8, 9)\n"
     ]
    }
   ],
   "source": [
    "x1 = x[0]\n",
    "x2 = x[1]\n",
    "x3 = x[2]\n",
    "print(x1 , x2 , x3)"
   ]
  },
  {
   "cell_type": "markdown",
   "id": "cb509777",
   "metadata": {},
   "source": [
    "#Q15"
   ]
  },
  {
   "cell_type": "code",
   "execution_count": 263,
   "id": "0c3f111d",
   "metadata": {},
   "outputs": [
    {
     "data": {
      "text/plain": [
       "[(6, 7, 8, 9), (3, 4, 5), (1, 2)]"
      ]
     },
     "execution_count": 263,
     "metadata": {},
     "output_type": "execute_result"
    }
   ],
   "source": [
    "x [::-1]"
   ]
  },
  {
   "cell_type": "markdown",
   "id": "93e84778",
   "metadata": {},
   "source": [
    "#Q16\n"
   ]
  },
  {
   "cell_type": "code",
   "execution_count": 264,
   "id": "4dbeecdb",
   "metadata": {},
   "outputs": [
    {
     "name": "stdout",
     "output_type": "stream",
     "text": [
      "{1: (2,), 3: (4, 5), 6: (7, 8, 9)}\n"
     ]
    }
   ],
   "source": [
    "d1 = {}\n",
    "for i in x:\n",
    "    \n",
    "    d1[i[0]] = i[1::]\n",
    "    \n",
    "print(d1)\n"
   ]
  },
  {
   "cell_type": "markdown",
   "id": "5c651219",
   "metadata": {},
   "source": [
    "#Q17"
   ]
  },
  {
   "cell_type": "code",
   "execution_count": 343,
   "id": "ae9d6097",
   "metadata": {},
   "outputs": [],
   "source": [
    "y = [(10,20,30),(40,50,60),(70,80,90)]"
   ]
  },
  {
   "cell_type": "code",
   "execution_count": 344,
   "id": "7070ed58",
   "metadata": {},
   "outputs": [],
   "source": [
    "y[0] = (10,20,100)\n",
    "y[1] = (40,50,100)\n",
    "y[2] = (70,80,100)"
   ]
  },
  {
   "cell_type": "code",
   "execution_count": 345,
   "id": "7b5a35bc",
   "metadata": {},
   "outputs": [
    {
     "data": {
      "text/plain": [
       "[(10, 20, 100), (40, 50, 100), (70, 80, 100)]"
      ]
     },
     "execution_count": 345,
     "metadata": {},
     "output_type": "execute_result"
    }
   ],
   "source": [
    "y"
   ]
  },
  {
   "cell_type": "markdown",
   "id": "e938b675",
   "metadata": {},
   "source": [
    "#Q18"
   ]
  },
  {
   "cell_type": "code",
   "execution_count": null,
   "id": "b4a775e7",
   "metadata": {},
   "outputs": [],
   "source": []
  }
 ],
 "metadata": {
  "kernelspec": {
   "display_name": "Python 3 (ipykernel)",
   "language": "python",
   "name": "python3"
  },
  "language_info": {
   "codemirror_mode": {
    "name": "ipython",
    "version": 3
   },
   "file_extension": ".py",
   "mimetype": "text/x-python",
   "name": "python",
   "nbconvert_exporter": "python",
   "pygments_lexer": "ipython3",
   "version": "3.11.5"
  }
 },
 "nbformat": 4,
 "nbformat_minor": 5
}
